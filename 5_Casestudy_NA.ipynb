{
 "cells": [
  {
   "cell_type": "markdown",
   "id": "wGo5elhzCHPT",
   "metadata": {
    "id": "wGo5elhzCHPT"
   },
   "source": [
    "# input data"
   ]
  },
  {
   "cell_type": "code",
   "execution_count": null,
   "id": "5329c894",
   "metadata": {
    "executionInfo": {
     "elapsed": 4562,
     "status": "ok",
     "timestamp": 1706108586731,
     "user": {
      "displayName": "wang xiao",
      "userId": "14863919153611851509"
     },
     "user_tz": -60
    },
    "id": "5329c894"
   },
   "outputs": [],
   "source": [
    "#Import statements\n",
    "import random\n",
    "import pandas as pd\n",
    "pd.set_option('display.max_columns', None)\n",
    "from sklearn.model_selection import train_test_split\n",
    "import numpy as np\n",
    "from sklearn.model_selection import GridSearchCV\n",
    "from sklearn.ensemble import RandomForestRegressor\n",
    "from sklearn.ensemble import ExtraTreesRegressor\n",
    "from sklearn import linear_model\n",
    "from sklearn.metrics import mean_squared_error, r2_score\n",
    "from sklearn.pipeline import make_pipeline\n",
    "from sklearn.preprocessing import StandardScaler\n",
    "from sklearn import svm\n",
    "from sklearn.pipeline import Pipeline\n",
    "from sklearn.linear_model import LinearRegression\n",
    "from sklearn.ensemble import VotingRegressor\n",
    "from sklearn.linear_model import ElasticNet\n",
    "from sklearn.linear_model import ElasticNetCV #built in class to provide tuning\n",
    "from sklearn.model_selection import RepeatedKFold\n",
    "from numpy import arange\n",
    "from sklearn.neural_network import MLPRegressor\n",
    "from sklearn import preprocessing\n",
    "random.seed(1) #set a seed for reproducable result"
   ]
  },
  {
   "cell_type": "code",
   "execution_count": null,
   "id": "7tYHgYU1lf6Y",
   "metadata": {
    "executionInfo": {
     "elapsed": 240,
     "status": "ok",
     "timestamp": 1706108624827,
     "user": {
      "displayName": "wang xiao",
      "userId": "14863919153611851509"
     },
     "user_tz": -60
    },
    "id": "7tYHgYU1lf6Y"
   },
   "outputs": [],
   "source": [
    "def combine_embedding_with_table(embedding_name,modelling_variable):\n",
    "\n",
    "    \"\"\"\n",
    "    Combine  embedding  with a basetable and performs some data preprocessing.\n",
    "\n",
    "    Args:\n",
    "    - embedding_name (str): the name of the embedding ('glove', 'elmo', 'berttwitter', 'sentencebert', 'universal').\n",
    "    - modelling_variable (str): the name of  ('SWB', 'Positive_affect', 'Negative_affect').\n",
    "\n",
    "    Returns:\n",
    "    - DataFrame: The combined embedding and basetable\n",
    "\n",
    "    \"\"\"\n",
    "\n",
    "    basetable = pd.read_csv(\"./data/ModelData.csv\")\n",
    "    try:\n",
    "        # Construct file path of embedding\n",
    "        filename = f\"./data/{embedding_name}.csv\"\n",
    "\n",
    "        # Read the CSV file into a DataFrame\n",
    "        emb_table = pd.read_csv(filename)\n",
    "\n",
    "        # Concatenate the basetable and the embedding\n",
    "        basetable = pd.concat([basetable, emb_table], axis=1)\n",
    "\n",
    "        # List of column names to delet\n",
    "       # List of column names to delet\n",
    "        columns_to_delete = ['created_at', 'full_text',\n",
    "                     'Attentive','Alert','Determined','Inspired','Active',\n",
    "                     'Hostile','Ashamed','Upset','Afraid','Nervous',\n",
    "                     'OriginalText','clean_text','neu' ]\n",
    "        basetable = basetable.drop(columns=columns_to_delete)\n",
    "\n",
    "        # List of column names to delete based on modelling_variable\n",
    "        if modelling_variable == 'SWB':\n",
    "            columns_to_delete = ['Positive_affect', 'Negative_affect']\n",
    "        elif modelling_variable == 'Positive_affect':\n",
    "            columns_to_delete = ['SWB', 'Negative_affect']\n",
    "        elif modelling_variable == 'Negative_affect':\n",
    "            columns_to_delete = ['SWB', 'Positive_affect']\n",
    "        else:\n",
    "            columns_to_delete = []\n",
    "        basetable = basetable.drop(columns=columns_to_delete)\n",
    "\n",
    "\n",
    "\n",
    "        print(f\"Combined {embedding_name} with basetable.\")\n",
    "        print(f\"Dropped columns: {columns_to_delete}\")\n",
    "        print(\"=\" * 40)\n",
    "        print(f\"This code is used to build a model of {modelling_variable} using {embedding_name}\")\n",
    "\n",
    "        return basetable\n",
    "\n",
    "    except FileNotFoundError:\n",
    "        print(f\"File '{embedding_name}' not found.\")\n",
    "        return basetable\n"
   ]
  },
  {
   "cell_type": "markdown",
   "id": "Gwom6K9oj8XP",
   "metadata": {
    "id": "Gwom6K9oj8XP"
   },
   "source": [
    "# NA"
   ]
  },
  {
   "cell_type": "code",
   "execution_count": null,
   "id": "J4xNjasooppG",
   "metadata": {
    "colab": {
     "base_uri": "https://localhost:8080/"
    },
    "executionInfo": {
     "elapsed": 8391,
     "status": "ok",
     "timestamp": 1706108730351,
     "user": {
      "displayName": "wang xiao",
      "userId": "14863919153611851509"
     },
     "user_tz": -60
    },
    "id": "J4xNjasooppG",
    "outputId": "14ba62a3-c107-44a1-fdf6-bf0a2a7cabe4"
   },
   "outputs": [],
   "source": [
    "##here input two , one is embedding name, another is the dependent variable to build a model\n",
    "basetable=combine_embedding_with_table('openai','Negative_affect')"
   ]
  },
  {
   "cell_type": "code",
   "execution_count": null,
   "id": "1AqQuj_uWMC1",
   "metadata": {
    "colab": {
     "base_uri": "https://localhost:8080/"
    },
    "executionInfo": {
     "elapsed": 211,
     "status": "ok",
     "timestamp": 1706108768111,
     "user": {
      "displayName": "wang xiao",
      "userId": "14863919153611851509"
     },
     "user_tz": -60
    },
    "id": "1AqQuj_uWMC1",
    "outputId": "d96a33ea-def9-428a-c72d-a25c41e6ba7e"
   },
   "outputs": [],
   "source": [
    "basetable.shape\n"
   ]
  },
  {
   "cell_type": "code",
   "execution_count": null,
   "id": "nM4kPcmp1Kzy",
   "metadata": {
    "colab": {
     "base_uri": "https://localhost:8080/",
     "height": 439
    },
    "executionInfo": {
     "elapsed": 1812,
     "status": "ok",
     "timestamp": 1706108771312,
     "user": {
      "displayName": "wang xiao",
      "userId": "14863919153611851509"
     },
     "user_tz": -60
    },
    "id": "nM4kPcmp1Kzy",
    "outputId": "9aa3cb80-4ba8-44b4-c868-204a931914a0"
   },
   "outputs": [],
   "source": [
    "basetable"
   ]
  },
  {
   "cell_type": "code",
   "execution_count": null,
   "id": "FOB_rgM-yg81",
   "metadata": {
    "executionInfo": {
     "elapsed": 219,
     "status": "ok",
     "timestamp": 1706108774470,
     "user": {
      "displayName": "wang xiao",
      "userId": "14863919153611851509"
     },
     "user_tz": -60
    },
    "id": "FOB_rgM-yg81"
   },
   "outputs": [],
   "source": [
    "#now create date\n",
    "covid_start = pd.to_datetime('2020-01-30', utc = True)\n",
    "basetable['created_at'] = covid_start + pd.to_timedelta(basetable['days_since_COVID19'], unit='D')\n",
    "basetable['created_at'] = basetable['created_at'].dt.date\n"
   ]
  },
  {
   "cell_type": "code",
   "execution_count": null,
   "id": "X0oJqKiuz0Bh",
   "metadata": {
    "executionInfo": {
     "elapsed": 216,
     "status": "ok",
     "timestamp": 1706108776116,
     "user": {
      "displayName": "wang xiao",
      "userId": "14863919153611851509"
     },
     "user_tz": -60
    },
    "id": "X0oJqKiuz0Bh"
   },
   "outputs": [],
   "source": [
    "basetable = basetable.sort_values(by='created_at')"
   ]
  },
  {
   "cell_type": "code",
   "execution_count": null,
   "id": "7W8jIooL0D6L",
   "metadata": {
    "colab": {
     "base_uri": "https://localhost:8080/",
     "height": 439
    },
    "executionInfo": {
     "elapsed": 2299,
     "status": "ok",
     "timestamp": 1706108779841,
     "user": {
      "displayName": "wang xiao",
      "userId": "14863919153611851509"
     },
     "user_tz": -60
    },
    "id": "7W8jIooL0D6L",
    "outputId": "e0dc0bd0-587b-46af-fdd9-77e89e873b21"
   },
   "outputs": [],
   "source": [
    "basetable"
   ]
  },
  {
   "cell_type": "code",
   "execution_count": null,
   "id": "tUHV5R6qVPUJ",
   "metadata": {
    "executionInfo": {
     "elapsed": 212,
     "status": "ok",
     "timestamp": 1706108781409,
     "user": {
      "displayName": "wang xiao",
      "userId": "14863919153611851509"
     },
     "user_tz": -60
    },
    "id": "tUHV5R6qVPUJ"
   },
   "outputs": [],
   "source": [
    "# delete days since covid 19\n",
    "X = basetable.drop(['Negative_affect','created_at','neg','pos',\t'compound',\t'TextBlob_score','days_since_COVID19'], axis = 1)\n",
    "y = basetable['Negative_affect']\n",
    "\n",
    "X[\"is_quote_status\"] = X[\"is_quote_status\"].astype(int)\n",
    "X[\"is_reply\"] = X[\"is_reply\"].astype(int)\n",
    "X[\"possibly_sensitive\"] = X[\"possibly_sensitive\"].astype(int)"
   ]
  },
  {
   "cell_type": "code",
   "execution_count": null,
   "id": "WA-qZRa64IRQ",
   "metadata": {
    "colab": {
     "base_uri": "https://localhost:8080/"
    },
    "executionInfo": {
     "elapsed": 235,
     "status": "ok",
     "timestamp": 1706108783026,
     "user": {
      "displayName": "wang xiao",
      "userId": "14863919153611851509"
     },
     "user_tz": -60
    },
    "id": "WA-qZRa64IRQ",
    "outputId": "50566746-5c5a-43b9-8ee9-324dd2725e24"
   },
   "outputs": [],
   "source": [
    "y"
   ]
  },
  {
   "cell_type": "code",
   "execution_count": null,
   "id": "YDmZ0KowzpzK",
   "metadata": {
    "colab": {
     "base_uri": "https://localhost:8080/",
     "height": 439
    },
    "executionInfo": {
     "elapsed": 1831,
     "status": "ok",
     "timestamp": 1706108786271,
     "user": {
      "displayName": "wang xiao",
      "userId": "14863919153611851509"
     },
     "user_tz": -60
    },
    "id": "YDmZ0KowzpzK",
    "outputId": "68e28d02-a9f9-4c13-d1a7-ed400d5edae9"
   },
   "outputs": [],
   "source": [
    "X"
   ]
  },
  {
   "cell_type": "code",
   "execution_count": null,
   "id": "-9DzzTn3D9pb",
   "metadata": {
    "executionInfo": {
     "elapsed": 220,
     "status": "ok",
     "timestamp": 1706108789146,
     "user": {
      "displayName": "wang xiao",
      "userId": "14863919153611851509"
     },
     "user_tz": -60
    },
    "id": "-9DzzTn3D9pb"
   },
   "outputs": [],
   "source": [
    "# Define the ratio for the split\n",
    "split_ratio = 0.7  # 70% for training, 30% for testing\n",
    "\n",
    "# Calculate the index to split the data\n",
    "split_index = int(len(X) * split_ratio)\n",
    "\n",
    "# Split the data into training and testing sets\n",
    "X_train = X[:split_index]\n",
    "y_train = y[:split_index]\n",
    "X_test = X[split_index:]\n",
    "y_test = y[split_index:]"
   ]
  },
  {
   "cell_type": "code",
   "execution_count": null,
   "id": "DlrNFG4kD9tj",
   "metadata": {
    "colab": {
     "base_uri": "https://localhost:8080/",
     "height": 609
    },
    "executionInfo": {
     "elapsed": 1601,
     "status": "ok",
     "timestamp": 1706108792324,
     "user": {
      "displayName": "wang xiao",
      "userId": "14863919153611851509"
     },
     "user_tz": -60
    },
    "id": "DlrNFG4kD9tj",
    "outputId": "b9fca2b1-8947-4ec6-dbd0-782d2d9d04ab"
   },
   "outputs": [],
   "source": [
    "X_train"
   ]
  },
  {
   "cell_type": "code",
   "execution_count": null,
   "id": "GTxkoWZLMamw",
   "metadata": {
    "id": "GTxkoWZLMamw"
   },
   "outputs": [],
   "source": [
    "#beloe the code is used without"
   ]
  },
  {
   "cell_type": "code",
   "execution_count": null,
   "id": "QiCJw-N4Mao4",
   "metadata": {
    "colab": {
     "base_uri": "https://localhost:8080/"
    },
    "executionInfo": {
     "elapsed": 448690,
     "status": "ok",
     "timestamp": 1706109247995,
     "user": {
      "displayName": "wang xiao",
      "userId": "14863919153611851509"
     },
     "user_tz": -60
    },
    "id": "QiCJw-N4Mao4",
    "outputId": "20966579-2f70-4226-ece5-bf64ec5b861a"
   },
   "outputs": [],
   "source": [
    "\n",
    "\n",
    "model= svm.SVR()\n",
    "\n",
    "param_grid = {'C': [0.1, 1, 10, 100, 1000],\n",
    "              'gamma': [1, 0.1, 0.01, 0.001, 0.0001],\n",
    "              'kernel': ['rbf']}\n",
    "\n",
    "\n",
    "#sclaing part of features\n",
    "scale_columns=['retweet_count','favorite_count',\n",
    "                   'hour','url_count','mentions_count','questionmark_count',\n",
    "                   'exclamationmark_count','points_count','uppercase_ratio',\n",
    "                   'hashtag_count']\n",
    "\n",
    "#select the columns to scale\n",
    "X_train_scale = X_train[scale_columns]\n",
    "X_test_scale = X_test[scale_columns]\n",
    "\n",
    "X_train_unscale = X_train.drop(columns=scale_columns)\n",
    "X_test_unscale = X_test.drop(columns=scale_columns)\n",
    "\n",
    "scaler = StandardScaler().fit(X_train_scale)\n",
    "X_train_transformed = pd.DataFrame(scaler.transform(X_train_scale), columns=scale_columns)\n",
    "X_test_transformed = pd.DataFrame(scaler.transform(X_test_scale), columns=scale_columns)\n",
    "\n",
    "\n",
    "# Reset the indexes of both DataFrames\n",
    "X_train_unscale.reset_index(drop=True, inplace=True)\n",
    "X_train_transformed.reset_index(drop=True, inplace=True)\n",
    "X_test_unscale.reset_index(drop=True, inplace=True)\n",
    "X_test_transformed.reset_index(drop=True, inplace=True)\n",
    "# Concatenate the DataFrames together\n",
    "X_train = pd.concat([X_train_transformed,X_train_unscale,], axis=1)\n",
    "X_test = pd.concat([X_test_transformed,X_test_unscale], axis=1)\n",
    "\n",
    "\n",
    "grid_search = GridSearchCV(estimator=model, param_grid=param_grid, cv=5, scoring='neg_mean_squared_error', n_jobs=1, verbose=1)\n",
    "grid_search.fit(X_train, y_train)\n",
    "\n",
    "best_model = grid_search.best_estimator_\n",
    "print('Config: %s' % grid_search.best_params_)\n",
    "\n",
    "final_model = best_model.fit(X_train, y_train)\n",
    "y_pred = final_model.predict(X_test)\n",
    "y_train_pred=final_model.predict(X_train)\n",
    "\n",
    "y_pred = np.clip(y_pred, 0, 1)\n",
    "y_train_pred== np.clip(y_train_pred, 0, 1)\n",
    "\n",
    "model_rmse = np.sqrt(mean_squared_error(y_test, y_pred))\n",
    "model_r2 = r2_score(y_test, y_pred)\n",
    "print('r2', model_r2)\n",
    "print('RMSE', model_rmse)\n",
    "\n",
    "\n"
   ]
  },
  {
   "cell_type": "code",
   "execution_count": null,
   "id": "j7Dc8noOMarA",
   "metadata": {
    "executionInfo": {
     "elapsed": 223,
     "status": "ok",
     "timestamp": 1706109272055,
     "user": {
      "displayName": "wang xiao",
      "userId": "14863919153611851509"
     },
     "user_tz": -60
    },
    "id": "j7Dc8noOMarA"
   },
   "outputs": [],
   "source": [
    "predict_NA= np.concatenate((y_train_pred, y_pred), axis=0)"
   ]
  },
  {
   "cell_type": "code",
   "execution_count": null,
   "id": "uK4w8VNYNXvu",
   "metadata": {
    "executionInfo": {
     "elapsed": 215,
     "status": "ok",
     "timestamp": 1706109273591,
     "user": {
      "displayName": "wang xiao",
      "userId": "14863919153611851509"
     },
     "user_tz": -60
    },
    "id": "uK4w8VNYNXvu"
   },
   "outputs": [],
   "source": [
    "basetable['predict_NA']=predict_NA"
   ]
  },
  {
   "cell_type": "code",
   "execution_count": null,
   "id": "prqsNHVINXzU",
   "metadata": {
    "executionInfo": {
     "elapsed": 223,
     "status": "ok",
     "timestamp": 1706109277269,
     "user": {
      "displayName": "wang xiao",
      "userId": "14863919153611851509"
     },
     "user_tz": -60
    },
    "id": "prqsNHVINXzU"
   },
   "outputs": [],
   "source": [
    "basetable['created_at'] = pd.to_datetime(basetable['created_at'])"
   ]
  },
  {
   "cell_type": "code",
   "execution_count": null,
   "id": "k1j4IMceNX3P",
   "metadata": {
    "executionInfo": {
     "elapsed": 580,
     "status": "ok",
     "timestamp": 1706109279332,
     "user": {
      "displayName": "wang xiao",
      "userId": "14863919153611851509"
     },
     "user_tz": -60
    },
    "id": "k1j4IMceNX3P"
   },
   "outputs": [],
   "source": [
    "# Group by month and calculate the mean of 'Negative_affect', 'predict_neg', and 'neg'\n",
    "mean_NA = basetable.resample('M', on='created_at')['Negative_affect'].mean()\n",
    "mean_predict_NA = basetable.resample('M', on='created_at')['predict_NA'].mean()\n",
    "mean_vader_neg = basetable.resample('M', on='created_at')['neg'].mean()\n"
   ]
  },
  {
   "cell_type": "code",
   "execution_count": null,
   "id": "zIVhBBg7NX43",
   "metadata": {
    "executionInfo": {
     "elapsed": 240,
     "status": "ok",
     "timestamp": 1706109280699,
     "user": {
      "displayName": "wang xiao",
      "userId": "14863919153611851509"
     },
     "user_tz": -60
    },
    "id": "zIVhBBg7NX43"
   },
   "outputs": [],
   "source": [
    "end_date = pd.to_datetime('2020-02-29')\n",
    "first_months_data = basetable[basetable['created_at'] <= end_date]\n",
    "# Calculate the mean for the desired columns\n",
    "first_months_mean_NA = first_months_data['Negative_affect'].mean()\n",
    "first_months_mean_predict_NA = first_months_data['predict_NA'].mean()\n",
    "first_months_mean_vader_neg = first_months_data['neg'].mean()\n"
   ]
  },
  {
   "cell_type": "code",
   "execution_count": null,
   "id": "3W-N8CrwNX8f",
   "metadata": {
    "executionInfo": {
     "elapsed": 215,
     "status": "ok",
     "timestamp": 1706109282470,
     "user": {
      "displayName": "wang xiao",
      "userId": "14863919153611851509"
     },
     "user_tz": -60
    },
    "id": "3W-N8CrwNX8f"
   },
   "outputs": [],
   "source": [
    "#scaling\n",
    "mean_NA=mean_NA/np.abs(first_months_mean_NA)\n",
    "mean_predict_NA=mean_predict_NA/np.abs(first_months_mean_predict_NA)\n",
    "mean_vader_neg=mean_vader_neg/np.abs(first_months_mean_vader_neg)"
   ]
  },
  {
   "cell_type": "code",
   "execution_count": null,
   "id": "NvVbaF6LNYAG",
   "metadata": {
    "executionInfo": {
     "elapsed": 264,
     "status": "ok",
     "timestamp": 1706109284446,
     "user": {
      "displayName": "wang xiao",
      "userId": "14863919153611851509"
     },
     "user_tz": -60
    },
    "id": "NvVbaF6LNYAG"
   },
   "outputs": [],
   "source": [
    "mean_NA=mean_NA[1:]\n",
    "mean_predict_NA=mean_predict_NA[1:]\n",
    "mean_vader_neg=mean_vader_neg[1:]\n",
    "\n",
    "mean_NA[0]=1\n",
    "mean_predict_NA[0]=1\n",
    "mean_vader_neg[0]=1"
   ]
  },
  {
   "cell_type": "code",
   "execution_count": null,
   "id": "sK9PerBPNYB3",
   "metadata": {
    "colab": {
     "base_uri": "https://localhost:8080/",
     "height": 606
    },
    "executionInfo": {
     "elapsed": 1050,
     "status": "ok",
     "timestamp": 1706110064685,
     "user": {
      "displayName": "wang xiao",
      "userId": "14863919153611851509"
     },
     "user_tz": -60
    },
    "id": "sK9PerBPNYB3",
    "outputId": "3f8d260b-e895-4a31-cb2f-280df0515e1d"
   },
   "outputs": [],
   "source": [
    "import matplotlib.pyplot as plt\n",
    "\n",
    "# Create a figure and axis\n",
    "fig, ax = plt.subplots(figsize=(10, 6))\n",
    "# Plot all three variables on the same plot\n",
    "mean_NA.plot(label='Negative affect', linewidth=2.5,legend=True)\n",
    "mean_predict_NA.plot(label='Predicted negative affect', linewidth=2.5,legend=True)\n",
    "mean_vader_neg.plot(label='VADER negative', linewidth=2.5,legend=True)\n",
    "\n",
    "\n",
    "# Add a vertical line at January 2021\n",
    "plt.axvline(pd.to_datetime('2021-01-01'), color='black', linestyle='--')\n",
    "\n",
    "ax.annotate('Training period', xy=(0.3, 0.38), fontsize=16, color='blue',xycoords='figure fraction')\n",
    "ax.annotate('Deployment period', xy=(0.7, 0.38), fontsize=16, color='blue',xycoords='figure fraction')\n",
    "\n",
    "# Add a grid\n",
    "ax.grid(True, linestyle='--', alpha=0.7)\n",
    "\n",
    "# Customize labels and title\n",
    "ax.set_xlabel('')\n",
    "ax.tick_params(labelsize=16)\n",
    "# Customize labels and title\n",
    "plt.ylabel('Values',fontsize=16)\n",
    "\n",
    "# Add a legend with a border\n",
    "#ax.legend(loc='upper right', frameon=False, framealpha=0.5)\n",
    "\n",
    "# Rotate x-axis labels for readability\n",
    "plt.xticks(rotation=45)\n",
    "\n",
    "# Tighten layout for better spacing\n",
    "plt.tight_layout()\n",
    "plt.legend(fontsize='large')\n",
    "\n",
    "plt.savefig('TrackNAScale.png')\n",
    "\n",
    "\n",
    "# Show the plot\n",
    "plt.show()"
   ]
  },
  {
   "cell_type": "code",
   "execution_count": null,
   "id": "KLiR5hSeNYHd",
   "metadata": {
    "id": "KLiR5hSeNYHd"
   },
   "outputs": [],
   "source": []
  },
  {
   "cell_type": "code",
   "execution_count": null,
   "id": "FMkmmHLFNYLM",
   "metadata": {
    "id": "FMkmmHLFNYLM"
   },
   "outputs": [],
   "source": []
  },
  {
   "cell_type": "code",
   "execution_count": null,
   "id": "yLo0zQbANYNl",
   "metadata": {
    "id": "yLo0zQbANYNl"
   },
   "outputs": [],
   "source": []
  }
 ],
 "metadata": {
  "colab": {
   "provenance": [],
   "toc_visible": true
  },
  "kernelspec": {
   "display_name": "Python 3 (ipykernel)",
   "language": "python",
   "name": "python3"
  },
  "language_info": {
   "codemirror_mode": {
    "name": "ipython",
    "version": 3
   },
   "file_extension": ".py",
   "mimetype": "text/x-python",
   "name": "python",
   "nbconvert_exporter": "python",
   "pygments_lexer": "ipython3",
   "version": "3.10.13"
  }
 },
 "nbformat": 4,
 "nbformat_minor": 5
}

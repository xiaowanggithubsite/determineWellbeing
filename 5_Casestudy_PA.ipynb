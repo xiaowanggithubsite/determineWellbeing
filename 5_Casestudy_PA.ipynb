{
 "cells": [
  {
   "cell_type": "markdown",
   "id": "wGo5elhzCHPT",
   "metadata": {
    "id": "wGo5elhzCHPT"
   },
   "source": [
    "# input data"
   ]
  },
  {
   "cell_type": "code",
   "execution_count": null,
   "id": "5329c894",
   "metadata": {
    "executionInfo": {
     "elapsed": 244,
     "status": "ok",
     "timestamp": 1700516465273,
     "user": {
      "displayName": "Xiao Wang",
      "userId": "01292932993361768036"
     },
     "user_tz": -60
    },
    "id": "5329c894"
   },
   "outputs": [],
   "source": [
    "#Import statements\n",
    "import random\n",
    "import pandas as pd\n",
    "pd.set_option('display.max_columns', None)\n",
    "from sklearn.model_selection import train_test_split\n",
    "import numpy as np\n",
    "from sklearn.model_selection import GridSearchCV\n",
    "from sklearn.ensemble import RandomForestRegressor\n",
    "from sklearn.ensemble import ExtraTreesRegressor\n",
    "from sklearn import linear_model\n",
    "from sklearn.metrics import mean_squared_error, r2_score\n",
    "from sklearn.pipeline import make_pipeline\n",
    "from sklearn.preprocessing import StandardScaler\n",
    "from sklearn import svm\n",
    "from sklearn.pipeline import Pipeline\n",
    "from sklearn.linear_model import LinearRegression\n",
    "from sklearn.ensemble import VotingRegressor\n",
    "from sklearn.linear_model import ElasticNet\n",
    "from sklearn.linear_model import ElasticNetCV #built in class to provide tuning\n",
    "from sklearn.model_selection import RepeatedKFold\n",
    "from numpy import arange\n",
    "from sklearn.neural_network import MLPRegressor\n",
    "from sklearn import preprocessing\n",
    "random.seed(1) #set a seed for reproducable result"
   ]
  },
  {
   "cell_type": "code",
   "execution_count": null,
   "id": "7tYHgYU1lf6Y",
   "metadata": {
    "executionInfo": {
     "elapsed": 1,
     "status": "ok",
     "timestamp": 1700516468719,
     "user": {
      "displayName": "Xiao Wang",
      "userId": "01292932993361768036"
     },
     "user_tz": -60
    },
    "id": "7tYHgYU1lf6Y"
   },
   "outputs": [],
   "source": [
    "def combine_embedding_with_table(embedding_name,modelling_variable):\n",
    "\n",
    "    \"\"\"\n",
    "    Combine  embedding  with a basetable and performs some data preprocessing.\n",
    "\n",
    "    Args:\n",
    "    - embedding_name (str): the name of the embedding ('glove', 'elmo', 'berttwitter', 'sentencebert', 'universal').\n",
    "    - modelling_variable (str): the name of  ('SWB', 'Positive_affect', 'Negative_affect').\n",
    "\n",
    "    Returns:\n",
    "    - DataFrame: The combined embedding and basetable\n",
    "\n",
    "    \"\"\"\n",
    "\n",
    "    basetable = pd.read_csv(\"./data/ModelData.csv\")\n",
    "    try:\n",
    "        # Construct file path of embedding\n",
    "        filename = f\"./data/{embedding_name}.csv\"\n",
    "\n",
    "        # Read the CSV file into a DataFrame\n",
    "        emb_table = pd.read_csv(filename)\n",
    "\n",
    "        # Concatenate the basetable and the embedding\n",
    "        basetable = pd.concat([basetable, emb_table], axis=1)\n",
    "\n",
    "        # List of column names to delet\n",
    "       # List of column names to delet\n",
    "        columns_to_delete = ['created_at', 'full_text',\n",
    "                     'Attentive','Alert','Determined','Inspired','Active',\n",
    "                     'Hostile','Ashamed','Upset','Afraid','Nervous',\n",
    "                     'OriginalText','clean_text','neu' ]\n",
    "        basetable = basetable.drop(columns=columns_to_delete)\n",
    "\n",
    "        # List of column names to delete based on modelling_variable\n",
    "        if modelling_variable == 'SWB':\n",
    "            columns_to_delete = ['Positive_affect', 'Negative_affect']\n",
    "        elif modelling_variable == 'Positive_affect':\n",
    "            columns_to_delete = ['SWB', 'Negative_affect']\n",
    "        elif modelling_variable == 'Negative_affect':\n",
    "            columns_to_delete = ['SWB', 'Positive_affect']\n",
    "        else:\n",
    "            columns_to_delete = []\n",
    "        basetable = basetable.drop(columns=columns_to_delete)\n",
    "\n",
    "\n",
    "\n",
    "        print(f\"Combined {embedding_name} with basetable.\")\n",
    "        print(f\"Dropped columns: {columns_to_delete}\")\n",
    "        print(\"=\" * 40)\n",
    "        print(f\"This code is used to build a model of {modelling_variable} using {embedding_name}\")\n",
    "\n",
    "        return basetable\n",
    "\n",
    "    except FileNotFoundError:\n",
    "        print(f\"File '{embedding_name}' not found.\")\n",
    "        return basetable\n"
   ]
  },
  {
   "cell_type": "markdown",
   "id": "Gwom6K9oj8XP",
   "metadata": {
    "id": "Gwom6K9oj8XP"
   },
   "source": [
    "# SWB"
   ]
  },
  {
   "cell_type": "code",
   "execution_count": null,
   "id": "J4xNjasooppG",
   "metadata": {
    "colab": {
     "base_uri": "https://localhost:8080/"
    },
    "executionInfo": {
     "elapsed": 4275,
     "status": "ok",
     "timestamp": 1700516500843,
     "user": {
      "displayName": "Xiao Wang",
      "userId": "01292932993361768036"
     },
     "user_tz": -60
    },
    "id": "J4xNjasooppG",
    "outputId": "ca75f93a-f414-4ba4-ba36-547a1d3f4c8c"
   },
   "outputs": [],
   "source": [
    "##here input two , one is embedding name, another is the dependent variable to build a model\n",
    "#('SWB', 'Positive_affect', 'Negative_affect')\n",
    "basetable=combine_embedding_with_table('openai','Positive_affect')"
   ]
  },
  {
   "cell_type": "code",
   "execution_count": null,
   "id": "1AqQuj_uWMC1",
   "metadata": {
    "colab": {
     "base_uri": "https://localhost:8080/"
    },
    "executionInfo": {
     "elapsed": 3,
     "status": "ok",
     "timestamp": 1700516500844,
     "user": {
      "displayName": "Xiao Wang",
      "userId": "01292932993361768036"
     },
     "user_tz": -60
    },
    "id": "1AqQuj_uWMC1",
    "outputId": "997a3ed6-98c4-40ee-d165-90c0e9334e65"
   },
   "outputs": [],
   "source": [
    "basetable.shape\n"
   ]
  },
  {
   "cell_type": "code",
   "execution_count": null,
   "id": "nM4kPcmp1Kzy",
   "metadata": {
    "colab": {
     "base_uri": "https://localhost:8080/",
     "height": 444
    },
    "executionInfo": {
     "elapsed": 1444,
     "status": "ok",
     "timestamp": 1700516502286,
     "user": {
      "displayName": "Xiao Wang",
      "userId": "01292932993361768036"
     },
     "user_tz": -60
    },
    "id": "nM4kPcmp1Kzy",
    "outputId": "5cf19944-24b8-4855-9517-184c307c9e73"
   },
   "outputs": [],
   "source": [
    "basetable"
   ]
  },
  {
   "cell_type": "code",
   "execution_count": null,
   "id": "FOB_rgM-yg81",
   "metadata": {
    "executionInfo": {
     "elapsed": 1,
     "status": "ok",
     "timestamp": 1700516504646,
     "user": {
      "displayName": "Xiao Wang",
      "userId": "01292932993361768036"
     },
     "user_tz": -60
    },
    "id": "FOB_rgM-yg81"
   },
   "outputs": [],
   "source": [
    "#now create date\n",
    "covid_start = pd.to_datetime('2020-01-30', utc = True)\n",
    "basetable['created_at'] = covid_start + pd.to_timedelta(basetable['days_since_COVID19'], unit='D')\n",
    "basetable['created_at'] = basetable['created_at'].dt.date\n"
   ]
  },
  {
   "cell_type": "code",
   "execution_count": null,
   "id": "X0oJqKiuz0Bh",
   "metadata": {
    "executionInfo": {
     "elapsed": 2,
     "status": "ok",
     "timestamp": 1700516505855,
     "user": {
      "displayName": "Xiao Wang",
      "userId": "01292932993361768036"
     },
     "user_tz": -60
    },
    "id": "X0oJqKiuz0Bh"
   },
   "outputs": [],
   "source": [
    "basetable = basetable.sort_values(by='created_at')"
   ]
  },
  {
   "cell_type": "code",
   "execution_count": null,
   "id": "7W8jIooL0D6L",
   "metadata": {
    "colab": {
     "base_uri": "https://localhost:8080/",
     "height": 444
    },
    "executionInfo": {
     "elapsed": 1864,
     "status": "ok",
     "timestamp": 1700516509806,
     "user": {
      "displayName": "Xiao Wang",
      "userId": "01292932993361768036"
     },
     "user_tz": -60
    },
    "id": "7W8jIooL0D6L",
    "outputId": "1f433994-7cbc-43b8-a8f3-785c9f73a258"
   },
   "outputs": [],
   "source": [
    "basetable"
   ]
  },
  {
   "cell_type": "code",
   "execution_count": null,
   "id": "tUHV5R6qVPUJ",
   "metadata": {
    "executionInfo": {
     "elapsed": 3,
     "status": "ok",
     "timestamp": 1700516510069,
     "user": {
      "displayName": "Xiao Wang",
      "userId": "01292932993361768036"
     },
     "user_tz": -60
    },
    "id": "tUHV5R6qVPUJ"
   },
   "outputs": [],
   "source": [
    "X = basetable.drop(['Positive_affect','created_at','neg','pos',\t'compound',\t'TextBlob_score','days_since_COVID19'], axis = 1)\n",
    "y = basetable['Positive_affect']\n",
    "\n",
    "X[\"is_quote_status\"] = X[\"is_quote_status\"].astype(int)\n",
    "X[\"is_reply\"] = X[\"is_reply\"].astype(int)\n",
    "X[\"possibly_sensitive\"] = X[\"possibly_sensitive\"].astype(int)"
   ]
  },
  {
   "cell_type": "code",
   "execution_count": null,
   "id": "WA-qZRa64IRQ",
   "metadata": {
    "colab": {
     "base_uri": "https://localhost:8080/"
    },
    "executionInfo": {
     "elapsed": 269,
     "status": "ok",
     "timestamp": 1700516511820,
     "user": {
      "displayName": "Xiao Wang",
      "userId": "01292932993361768036"
     },
     "user_tz": -60
    },
    "id": "WA-qZRa64IRQ",
    "outputId": "0fe4585a-61e5-432a-9e75-c71ac922e0d1"
   },
   "outputs": [],
   "source": [
    "y"
   ]
  },
  {
   "cell_type": "code",
   "execution_count": null,
   "id": "YDmZ0KowzpzK",
   "metadata": {
    "colab": {
     "base_uri": "https://localhost:8080/",
     "height": 444
    },
    "executionInfo": {
     "elapsed": 2026,
     "status": "ok",
     "timestamp": 1700516515394,
     "user": {
      "displayName": "Xiao Wang",
      "userId": "01292932993361768036"
     },
     "user_tz": -60
    },
    "id": "YDmZ0KowzpzK",
    "outputId": "e627823d-54bf-45f8-b7d6-4a7750dce159"
   },
   "outputs": [],
   "source": [
    "X"
   ]
  },
  {
   "cell_type": "code",
   "execution_count": null,
   "id": "-9DzzTn3D9pb",
   "metadata": {
    "executionInfo": {
     "elapsed": 237,
     "status": "ok",
     "timestamp": 1700516525197,
     "user": {
      "displayName": "Xiao Wang",
      "userId": "01292932993361768036"
     },
     "user_tz": -60
    },
    "id": "-9DzzTn3D9pb"
   },
   "outputs": [],
   "source": [
    "# Define the ratio for the split\n",
    "split_ratio = 0.7  # 70% for training, 30% for testing\n",
    "\n",
    "# Calculate the index to split the data\n",
    "split_index = int(len(X) * split_ratio)\n",
    "\n",
    "# Split the data into training and testing sets\n",
    "X_train = X[:split_index]\n",
    "y_train = y[:split_index]\n",
    "X_test = X[split_index:]\n",
    "y_test = y[split_index:]"
   ]
  },
  {
   "cell_type": "code",
   "execution_count": null,
   "id": "DlrNFG4kD9tj",
   "metadata": {
    "colab": {
     "base_uri": "https://localhost:8080/",
     "height": 444
    },
    "executionInfo": {
     "elapsed": 2221,
     "status": "ok",
     "timestamp": 1700516528774,
     "user": {
      "displayName": "Xiao Wang",
      "userId": "01292932993361768036"
     },
     "user_tz": -60
    },
    "id": "DlrNFG4kD9tj",
    "outputId": "06902f1d-97cf-4521-fb9c-d90ea02be825"
   },
   "outputs": [],
   "source": [
    "X_train"
   ]
  },
  {
   "cell_type": "code",
   "execution_count": null,
   "id": "4t_iHn2OOAO1",
   "metadata": {
    "executionInfo": {
     "elapsed": 360,
     "status": "ok",
     "timestamp": 1700516529942,
     "user": {
      "displayName": "Xiao Wang",
      "userId": "01292932993361768036"
     },
     "user_tz": -60
    },
    "id": "4t_iHn2OOAO1"
   },
   "outputs": [],
   "source": [
    "# below the code is usede for without days since covid19\n"
   ]
  },
  {
   "cell_type": "code",
   "execution_count": null,
   "id": "919259bb-f177-45fb-ba27-b1fa452ac44f",
   "metadata": {},
   "outputs": [],
   "source": [
    "model =  MLPRegressor(random_state=1)\n",
    "\n",
    "# defining parameter range\n",
    "param_grid = {'hidden_layer_sizes': [2,4,6,8,10,12,14,16,18,20],\n",
    "              'batch_size':[32],\n",
    "             'alpha': [10**(-4), 10**(-3.5), 10**(-3), 10**(-2.5), 10**(-2), 10**(-1.5), 10**(-1), 10**(-0.5), 0]}\n",
    "\n",
    "\n",
    "\n",
    "#sclaing part of features\n",
    "scale_columns=['retweet_count','favorite_count',\n",
    "                   'hour','url_count','mentions_count','questionmark_count',\n",
    "                   'exclamationmark_count','points_count','uppercase_ratio',\n",
    "                   'hashtag_count']\n",
    "\n",
    "#select the columns to scale\n",
    "X_train_scale = X_train[scale_columns]\n",
    "X_test_scale = X_test[scale_columns]\n",
    "\n",
    "X_train_unscale = X_train.drop(columns=scale_columns)\n",
    "X_test_unscale = X_test.drop(columns=scale_columns)\n",
    "\n",
    "scaler = StandardScaler().fit(X_train_scale)\n",
    "X_train_transformed = pd.DataFrame(scaler.transform(X_train_scale), columns=scale_columns)\n",
    "X_test_transformed = pd.DataFrame(scaler.transform(X_test_scale), columns=scale_columns)\n",
    "\n",
    "\n",
    "# Reset the indexes of both DataFrames\n",
    "X_train_unscale.reset_index(drop=True, inplace=True)\n",
    "X_train_transformed.reset_index(drop=True, inplace=True)\n",
    "X_test_unscale.reset_index(drop=True, inplace=True)\n",
    "X_test_transformed.reset_index(drop=True, inplace=True)\n",
    "# Concatenate the DataFrames together\n",
    "X_train = pd.concat([X_train_transformed,X_train_unscale,], axis=1)\n",
    "X_test = pd.concat([X_test_transformed,X_test_unscale], axis=1)\n",
    "\n"
   ]
  },
  {
   "cell_type": "code",
   "execution_count": null,
   "id": "42e12137-1423-4d0f-ae92-1165dab29707",
   "metadata": {},
   "outputs": [],
   "source": [
    "\n",
    "grid_search = GridSearchCV(estimator=model, param_grid=param_grid, cv=5, scoring='neg_mean_squared_error', n_jobs=1, verbose=1)\n",
    "grid_search.fit(X_train, y_train)\n",
    "\n",
    "best_model = grid_search.best_estimator_\n",
    "print('Config: %s' % grid_search.best_params_)\n",
    "\n",
    "final_model = best_model.fit(X_train, y_train)\n",
    "y_pred = final_model.predict(X_test)\n",
    "y_train_pred=final_model.predict(X_train)\n",
    "\n",
    "y_pred = np.clip(y_pred, 0, 1)\n",
    "y_train_pred== np.clip(y_train_pred, 0, 1)\n",
    "\n",
    "model_rmse = np.sqrt(mean_squared_error(y_test, y_pred))\n",
    "model_r2 = r2_score(y_test, y_pred)\n",
    "print('r2', model_r2)\n",
    "print('RMSE', model_rmse)\n",
    "\n"
   ]
  },
  {
   "cell_type": "code",
   "execution_count": null,
   "id": "7lYEeisNOAWz",
   "metadata": {
    "executionInfo": {
     "elapsed": 249,
     "status": "ok",
     "timestamp": 1700517338808,
     "user": {
      "displayName": "Xiao Wang",
      "userId": "01292932993361768036"
     },
     "user_tz": -60
    },
    "id": "7lYEeisNOAWz"
   },
   "outputs": [],
   "source": [
    "predict_PA= np.concatenate((y_train_pred, y_pred), axis=0)"
   ]
  },
  {
   "cell_type": "code",
   "execution_count": null,
   "id": "fXHqy7-0OAYU",
   "metadata": {
    "executionInfo": {
     "elapsed": 1,
     "status": "ok",
     "timestamp": 1700517340369,
     "user": {
      "displayName": "Xiao Wang",
      "userId": "01292932993361768036"
     },
     "user_tz": -60
    },
    "id": "fXHqy7-0OAYU"
   },
   "outputs": [],
   "source": [
    "basetable['predict_PA']=predict_PA"
   ]
  },
  {
   "cell_type": "code",
   "execution_count": null,
   "id": "No85Uxl7OAab",
   "metadata": {
    "executionInfo": {
     "elapsed": 2,
     "status": "ok",
     "timestamp": 1700517341788,
     "user": {
      "displayName": "Xiao Wang",
      "userId": "01292932993361768036"
     },
     "user_tz": -60
    },
    "id": "No85Uxl7OAab"
   },
   "outputs": [],
   "source": [
    "basetable['created_at'] = pd.to_datetime(basetable['created_at'])"
   ]
  },
  {
   "cell_type": "code",
   "execution_count": null,
   "id": "T6F2B6tCOAcA",
   "metadata": {
    "executionInfo": {
     "elapsed": 1,
     "status": "ok",
     "timestamp": 1700517343456,
     "user": {
      "displayName": "Xiao Wang",
      "userId": "01292932993361768036"
     },
     "user_tz": -60
    },
    "id": "T6F2B6tCOAcA"
   },
   "outputs": [],
   "source": [
    "# Group by month and calculate the mean of 'Negative_affect', 'predict_neg', and 'neg'\n",
    "mean_PA = basetable.resample('M', on='created_at')['Positive_affect'].mean()\n",
    "mean_predict_PA = basetable.resample('M', on='created_at')['predict_PA'].mean()\n",
    "mean_vader_pos = basetable.resample('M', on='created_at')['pos'].mean()\n"
   ]
  },
  {
   "cell_type": "code",
   "execution_count": null,
   "id": "hdJcxbXPOAd-",
   "metadata": {
    "executionInfo": {
     "elapsed": 270,
     "status": "ok",
     "timestamp": 1700517350444,
     "user": {
      "displayName": "Xiao Wang",
      "userId": "01292932993361768036"
     },
     "user_tz": -60
    },
    "id": "hdJcxbXPOAd-"
   },
   "outputs": [],
   "source": [
    "end_date = pd.to_datetime('2020-02-29')\n",
    "first_months_data = basetable[basetable['created_at'] <= end_date]\n",
    "# Calculate the mean for the desired columns\n",
    "first_months_mean_PA = first_months_data['Positive_affect'].mean()\n",
    "first_months_mean_predict_PA = first_months_data['predict_PA'].mean()\n",
    "first_months_mean_vader_pos = first_months_data['pos'].mean()"
   ]
  },
  {
   "cell_type": "code",
   "execution_count": null,
   "id": "tWHa0ZptOAfk",
   "metadata": {
    "executionInfo": {
     "elapsed": 2,
     "status": "ok",
     "timestamp": 1700517352090,
     "user": {
      "displayName": "Xiao Wang",
      "userId": "01292932993361768036"
     },
     "user_tz": -60
    },
    "id": "tWHa0ZptOAfk"
   },
   "outputs": [],
   "source": [
    "#scaling\n",
    "mean_PA=mean_PA/np.abs(first_months_mean_PA)\n",
    "mean_predict_PA=mean_predict_PA/np.abs(first_months_mean_predict_PA)\n",
    "mean_vader_pos=mean_vader_pos/np.abs(first_months_mean_vader_pos)"
   ]
  },
  {
   "cell_type": "code",
   "execution_count": null,
   "id": "UZ4vTLwFOAhc",
   "metadata": {
    "executionInfo": {
     "elapsed": 412,
     "status": "ok",
     "timestamp": 1700517361962,
     "user": {
      "displayName": "Xiao Wang",
      "userId": "01292932993361768036"
     },
     "user_tz": -60
    },
    "id": "UZ4vTLwFOAhc"
   },
   "outputs": [],
   "source": [
    "mean_PA=mean_PA[1:]\n",
    "mean_predict_PA=mean_predict_PA[1:]\n",
    "mean_vader_pos=mean_vader_pos[1:]\n",
    "\n",
    "mean_PA[0]=1\n",
    "mean_predict_PA[0]=1\n",
    "mean_vader_pos[0]=1"
   ]
  },
  {
   "cell_type": "code",
   "execution_count": null,
   "id": "pHLXiuBePNbM",
   "metadata": {
    "id": "pHLXiuBePNbM"
   },
   "outputs": [],
   "source": [
    "import matplotlib.pyplot as plt\n",
    "# Set a more formal style, e.g., 'seaborn' or 'ggplot'\n",
    "#plt.style.use('seaborn')\n",
    "# Create a figure and axis\n",
    "fig, ax = plt.subplots(figsize=(10, 6))\n",
    "# Plot all three variables on the same plot\n",
    "mean_PA.plot(label='Positive affect', linewidth=2.5, legend=True)\n",
    "mean_predict_PA.plot(label='Predicted positive affect',linewidth=2.5, legend=True)\n",
    "mean_vader_pos.plot(label='VADER positive', linewidth=2.5,legend=True)\n",
    "\n",
    "\n",
    "# Add a vertical line at January 2021\n",
    "plt.axvline(pd.to_datetime('2021-01-01'), color='black', linestyle='--')\n",
    "ax.annotate('Training period', xy=(0.3, 0.45), fontsize=16, color='blue',xycoords='figure fraction')\n",
    "ax.annotate('Deployment period', xy=(0.7, 0.45), fontsize=16, color='blue',xycoords='figure fraction')\n",
    "\n",
    "# Add a grid\n",
    "ax.grid(True, linestyle='--', alpha=0.7)\n",
    "\n",
    "# Customize labels and title\n",
    "ax.set_xlabel('')\n",
    "ax.tick_params(labelsize=16)\n",
    "# Customize labels and title\n",
    "plt.ylabel('Values',fontsize=16)\n",
    "\n",
    "# Add a legend with a border\n",
    "#ax.legend(loc='upper left', frameon=False, framealpha=0.5)\n",
    "\n",
    "# Rotate x-axis labels for readability\n",
    "plt.xticks(rotation=45)\n",
    "plt.legend(fontsize='large')\n",
    "\n",
    "# Tighten layout for better spacing\n",
    "plt.tight_layout()\n",
    "plt.savefig('TrackPAScale.png')\n",
    "\n",
    "# Show the plot\n",
    "plt.show()"
   ]
  }
 ],
 "metadata": {
  "colab": {
   "provenance": [],
   "toc_visible": true
  },
  "kernelspec": {
   "display_name": "Python 3 (ipykernel)",
   "language": "python",
   "name": "python3"
  },
  "language_info": {
   "codemirror_mode": {
    "name": "ipython",
    "version": 3
   },
   "file_extension": ".py",
   "mimetype": "text/x-python",
   "name": "python",
   "nbconvert_exporter": "python",
   "pygments_lexer": "ipython3",
   "version": "3.10.13"
  }
 },
 "nbformat": 4,
 "nbformat_minor": 5
}
